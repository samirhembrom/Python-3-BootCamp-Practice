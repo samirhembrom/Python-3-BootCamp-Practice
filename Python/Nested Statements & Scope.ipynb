{
 "cells": [
  {
   "cell_type": "markdown",
   "metadata": {},
   "source": [
    "LEGB RULE:\n",
    "L: Local Name Space\n",
    "E: Enclosing function\n",
    "G: Global Name Space\n",
    "B: Built-in Name Space"
   ]
  },
  {
   "cell_type": "code",
   "execution_count": 1,
   "metadata": {},
   "outputs": [],
   "source": [
    "#lambda num:num**2"
   ]
  },
  {
   "cell_type": "code",
   "execution_count": 2,
   "metadata": {},
   "outputs": [
    {
     "name": "stdout",
     "output_type": "stream",
     "text": [
      "Hello Sammy\n"
     ]
    }
   ],
   "source": [
    "#GLOBAL\n",
    "name = 'This is a global string.'\n",
    "def greet():\n",
    "    #ENCLOSING\n",
    "    name ='Sammy'\n",
    "    def hello():\n",
    "        #LOCAL\n",
    "        name = 'I AM A LOCAL'\n",
    "        print('Hello '+name)\n",
    "    hello()\n",
    "greet()"
   ]
  },
  {
   "cell_type": "code",
   "execution_count": 4,
   "metadata": {},
   "outputs": [],
   "source": [
    "x = 50\n",
    "def func():\n",
    "    print(f'x is {x}')\n",
    "    #LOCAL REASSIGNMENT\n",
    "    x = 200\n",
    "    print(f'I JUST LOCALLY CHANGED X TO {x}')\n"
   ]
  },
  {
   "cell_type": "code",
   "execution_count": 5,
   "metadata": {},
   "outputs": [
    {
     "name": "stdout",
     "output_type": "stream",
     "text": [
      "50\n"
     ]
    }
   ],
   "source": [
    "print(x)"
   ]
  },
  {
   "cell_type": "code",
   "execution_count": 9,
   "metadata": {},
   "outputs": [
    {
     "name": "stdout",
     "output_type": "stream",
     "text": [
      "x is 50\n",
      "I JUST LOCALLY CHANGED X TO NEW VARIABLE\n"
     ]
    }
   ],
   "source": [
    "func()"
   ]
  },
  {
   "cell_type": "code",
   "execution_count": 8,
   "metadata": {},
   "outputs": [],
   "source": [
    "x = 50\n",
    "def func():\n",
    "    global x\n",
    "    print(f'x is {x}')\n",
    "    #LOCAL REASSIGNMENT ON A GLOBAL VARIABLE!\n",
    "    x = 'NEW VARIABLE'\n",
    "    print(f'I JUST LOCALLY CHANGED X TO {x}')\n"
   ]
  },
  {
   "cell_type": "code",
   "execution_count": 10,
   "metadata": {},
   "outputs": [],
   "source": [
    "x = 50\n",
    "def func(x):\n",
    "    print(f'x is {x}')\n",
    "    #LOCAL REASSIGNMENT ON A GLOBAL VARIABLE!\n",
    "    x = 'NEW VARIABLE'\n",
    "    print(f'I JUST LOCALLY CHANGED X TO {x}')\n"
   ]
  },
  {
   "cell_type": "code",
   "execution_count": null,
   "metadata": {},
   "outputs": [],
   "source": []
  }
 ],
 "metadata": {
  "kernelspec": {
   "display_name": "Python 3",
   "language": "python",
   "name": "python3"
  },
  "language_info": {
   "codemirror_mode": {
    "name": "ipython",
    "version": 3
   },
   "file_extension": ".py",
   "mimetype": "text/x-python",
   "name": "python",
   "nbconvert_exporter": "python",
   "pygments_lexer": "ipython3",
   "version": "3.7.6"
  }
 },
 "nbformat": 4,
 "nbformat_minor": 4
}
